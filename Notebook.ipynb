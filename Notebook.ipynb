{
 "cells": [
  {
   "cell_type": "code",
   "execution_count": 1,
   "metadata": {
    "collapsed": true
   },
   "outputs": [],
   "source": [
    "import pandas as pd\n",
    "import numpy as np\n",
    "from datetime import datetime,timedelta"
   ]
  },
  {
   "cell_type": "code",
   "execution_count": 2,
   "metadata": {},
   "outputs": [
    {
     "name": "stdout",
     "output_type": "stream",
     "text": [
      "df_customers (99441, 5)\n",
      "df_sellers (3095, 4)\n",
      "df_orders (99441, 8)\n",
      "df_products (32951, 9)\n",
      "df_orderItems (112650, 7)\n",
      "df_orderReviews (100000, 7)\n",
      "df_orderPayments (103886, 5)\n",
      "df_geolocation (1000163, 5)\n",
      "df_productCategory (71, 2)\n",
      "df_products_english (32951, 10)\n"
     ]
    }
   ],
   "source": [
    "df_customers = pd.read_csv(\"..\\data\\olist_customers_dataset.csv\")\n",
    "print(\"df_customers\", df_customers.shape)\n",
    "df_sellers = pd.read_csv(\"..\\data\\olist_sellers_dataset.csv\")\n",
    "print(\"df_sellers\", df_sellers.shape)\n",
    "df_orders = pd.read_csv(\"..\\data\\olist_orders_dataset.csv\")\n",
    "print(\"df_orders\", df_orders.shape)\n",
    "df_products = pd.read_csv(\"..\\data\\olist_products_dataset.csv\")\n",
    "print(\"df_products\", df_products.shape)\n",
    "df_orderItems = pd.read_csv(\"..\\data\\olist_order_items_dataset.csv\")\n",
    "print(\"df_orderItems\", df_orderItems.shape)\n",
    "df_orderReviews = pd.read_csv(\"..\\data\\olist_order_reviews_dataset.csv\")\n",
    "print(\"df_orderReviews\", df_orderReviews.shape)\n",
    "df_orderPayments = pd.read_csv(\"..\\data\\olist_order_payments_dataset.csv\")\n",
    "print(\"df_orderPayments\", df_orderPayments.shape)\n",
    "df_geolocation = pd.read_csv(\"..\\data\\olist_geolocation_dataset.csv\")\n",
    "print(\"df_geolocation\", df_geolocation.shape)\n",
    "df_productCategory = pd.read_csv(\"..\\data\\product_category_name_translation.csv\")\n",
    "print(\"df_productCategory\", df_productCategory.shape)\n",
    "\n",
    "\n",
    "df_products_english = pd.merge(df_products,df_productCategory ,on=\"product_category_name\",how=\"left\")\n",
    "print(\"df_products_english\", df_products_english.shape)\n"
   ]
  },
  {
   "cell_type": "code",
   "execution_count": 3,
   "metadata": {
    "collapsed": true
   },
   "outputs": [],
   "source": [
    "def getDateTime(date_str):\n",
    "    return datetime.strptime(date_str, '%Y-%m-%d %H:%M:%S')"
   ]
  },
  {
   "cell_type": "code",
   "execution_count": 4,
   "metadata": {
    "collapsed": true
   },
   "outputs": [],
   "source": [
    "def CheckIfNullExistsInDataframe(df):\n",
    "    return df.isnull().values.any()\n",
    "\n",
    "def GetCountOfNullValuesInDataframe(df):\n",
    "    return df.isnull().sum()"
   ]
  },
  {
   "cell_type": "code",
   "execution_count": 5,
   "metadata": {
    "collapsed": true
   },
   "outputs": [],
   "source": [
    "def Merge_Orders_and_Customers(df_orders,df_customers):\n",
    "    return pd.merge(df_orders,df_customers,on=\"customer_id\",how=\"left\")\n",
    "\n",
    "def Merge_OrderItemsSellers_and_Orders(df_orderitems_sellers,df_orders):\n",
    "    return pd.merge(df_orderitems_sellers,df_orders[[\"order_id\",\"order_status\",\"order_purchase_timestamp\",\"order_approved_at\",\"order_delivered_carrier_date\",\"order_delivered_customer_date\"]],on=\"order_id\",how=\"left\")\n",
    "\n",
    "def Merge_OrdersItems_and_Sellers(df_orderItems,df_sellers):    \n",
    "    return  pd.merge(df_orderItems[[\"order_id\",\"order_item_id\",\"seller_id\"]],df_sellers[[\"seller_id\"]],on=\"seller_id\",how=\"left\")\n"
   ]
  },
  {
   "cell_type": "code",
   "execution_count": 6,
   "metadata": {
    "collapsed": true
   },
   "outputs": [],
   "source": [
    "def GetCustomerLatestOrderDate(df_orders_customers,df_customers):\n",
    "    df_customers['latest_order_date'] = df_orders_customers.groupby(\"customer_unique_id\")[\"order_purchase_timestamp\"].transform(max)\n",
    "    df_customers['latest_order_date'] = pd.to_datetime(df_customers['latest_order_date'])\n",
    "    return df_customers\n",
    "\n",
    "def GetSellerLatestOrderDate(df_orders_orderitems_sellers,df_sellers):\n",
    "    df_sellers['latest_order_date'] = df_orders_orderitems_sellers.groupby(\"seller_id\")[\"order_approved_at\"].transform(max)\n",
    "    df_sellers['latest_order_date'] = pd.to_datetime(df_sellers['latest_order_date'])\n",
    "    return df_sellers\n"
   ]
  },
  {
   "cell_type": "code",
   "execution_count": 7,
   "metadata": {
    "collapsed": true
   },
   "outputs": [],
   "source": [
    "def SetChurnUsers(df,checkColumn,churn_month_duration):\n",
    "    # lets take the latest order date (2018-10-17 17:30:18) as the current date and \n",
    "    # call user a churn user if he/she hasnt placed an order for last 3 months\n",
    "    # churn_user = True when user hasnt ordered for last 3 months\n",
    "    se_date = GetMaxColumnValue(df,checkColumn)\n",
    "    print(\"Max date which is used to check if user is churn or not = \",se_date)\n",
    "    df[\"churn_user\"] = True\n",
    "    df.loc[ df[checkColumn] >= ( se_date - timedelta( days = (churn_month_duration*30.42))), \"churn_user\"] = False\n",
    "    \n",
    "    return df"
   ]
  },
  {
   "cell_type": "code",
   "execution_count": 8,
   "metadata": {
    "collapsed": true
   },
   "outputs": [],
   "source": [
    "def GetRowsWhereColumnValueEquals(df,columnName,value):\n",
    "    return df.loc[df[columnName] == value]\n",
    "\n",
    "def GetMaxColumnValue(df,columnName):\n",
    "    return df[columnName].max()\n",
    "\n",
    "def GetMinColumnValue(df,columnName):\n",
    "    return df[columnName].min()\n",
    "\n",
    "def GetUnqiueColumnValues(df,columnName):\n",
    "    return df[columnName].unique()\n",
    "\n",
    "def GetUnqiueColumnValuesLength(df,columnName):\n",
    "    return len(df[columnName].unique())\n",
    "\n",
    "def GetCountOfGroupBy(df,GroupbyOn,ColumnCountOn):\n",
    "    return df.groupby(GroupbyOn)[ColumnCountOn].count()"
   ]
  },
  {
   "cell_type": "code",
   "execution_count": null,
   "metadata": {
    "collapsed": true
   },
   "outputs": [],
   "source": []
  },
  {
   "cell_type": "code",
   "execution_count": null,
   "metadata": {
    "collapsed": true
   },
   "outputs": [],
   "source": []
  },
  {
   "cell_type": "code",
   "execution_count": 9,
   "metadata": {},
   "outputs": [
    {
     "name": "stdout",
     "output_type": "stream",
     "text": [
      "Max date which is used to check if user is churn or not =  2018-10-17 17:30:18\n"
     ]
    }
   ],
   "source": [
    "df_orders_customers =  Merge_Orders_and_Customers(df_orders,df_customers)\n",
    "df_customers = GetCustomerLatestOrderDate(df_orders_customers,df_customers)\n",
    "df_customers = SetChurnUsers(df=df_customers,checkColumn=\"latest_order_date\",churn_month_duration = 3)"
   ]
  },
  {
   "cell_type": "code",
   "execution_count": 10,
   "metadata": {},
   "outputs": [
    {
     "data": {
      "text/plain": [
       "('sao paulo', 15540)"
      ]
     },
     "execution_count": 10,
     "metadata": {},
     "output_type": "execute_result"
    }
   ],
   "source": [
    "NumberOfCustomersInCity = GetCountOfGroupBy(df_customers,\"customer_city\",\"customer_unique_id\")\n",
    "MaxCustomerCity = NumberOfCustomersInCity.idxmax()\n",
    "MaxCustomerCityValue = NumberOfCustomersInCity.max()\n",
    "\n",
    "MaxCustomerCity,MaxCustomerCityValue"
   ]
  },
  {
   "cell_type": "code",
   "execution_count": null,
   "metadata": {
    "collapsed": true
   },
   "outputs": [],
   "source": []
  },
  {
   "cell_type": "code",
   "execution_count": 11,
   "metadata": {},
   "outputs": [
    {
     "name": "stdout",
     "output_type": "stream",
     "text": [
      "Does any null value exist?  Yes\n",
      "order_id                            0\n",
      "order_item_id                       0\n",
      "seller_id                           0\n",
      "order_status                        0\n",
      "order_purchase_timestamp            0\n",
      "order_approved_at                  15\n",
      "order_delivered_carrier_date     1194\n",
      "order_delivered_customer_date    2454\n",
      "dtype: int64\n"
     ]
    },
    {
     "data": {
      "text/plain": [
       "(112650, 8)"
      ]
     },
     "execution_count": 11,
     "metadata": {},
     "output_type": "execute_result"
    }
   ],
   "source": [
    "df_orderitems_sellers = Merge_OrdersItems_and_Sellers(df_orderItems,df_sellers)\n",
    "df_orders_orderitems_sellers = Merge_OrderItemsSellers_and_Orders(df_orderitems_sellers,df_orders)\n",
    "\n",
    "print(\"Does any null value exist? \",\"Yes\" if CheckIfNullExistsInDataframe(df_orders_orderitems_sellers) == True else \"No\")\n",
    "print(GetCountOfNullValuesInDataframe(df_orders_orderitems_sellers))\n",
    "df_orders_orderitems_sellers.shape\n",
    "\n",
    "#null exists because there are some orders whose order status is cancelled"
   ]
  },
  {
   "cell_type": "code",
   "execution_count": 12,
   "metadata": {},
   "outputs": [
    {
     "data": {
      "text/plain": [
       "array(['delivered', 'shipped', 'canceled', 'invoiced', 'processing',\n",
       "       'approved', 'unavailable'], dtype=object)"
      ]
     },
     "execution_count": 12,
     "metadata": {},
     "output_type": "execute_result"
    }
   ],
   "source": [
    "GetUnqiueColumnValues(df_orders_orderitems_sellers,\"order_status\")"
   ]
  },
  {
   "cell_type": "code",
   "execution_count": 13,
   "metadata": {},
   "outputs": [
    {
     "data": {
      "text/html": [
       "<div>\n",
       "<style scoped>\n",
       "    .dataframe tbody tr th:only-of-type {\n",
       "        vertical-align: middle;\n",
       "    }\n",
       "\n",
       "    .dataframe tbody tr th {\n",
       "        vertical-align: top;\n",
       "    }\n",
       "\n",
       "    .dataframe thead th {\n",
       "        text-align: right;\n",
       "    }\n",
       "</style>\n",
       "<table border=\"1\" class=\"dataframe\">\n",
       "  <thead>\n",
       "    <tr style=\"text-align: right;\">\n",
       "      <th></th>\n",
       "      <th>order_id</th>\n",
       "      <th>order_item_id</th>\n",
       "      <th>seller_id</th>\n",
       "      <th>order_status</th>\n",
       "      <th>order_purchase_timestamp</th>\n",
       "      <th>order_approved_at</th>\n",
       "      <th>order_delivered_carrier_date</th>\n",
       "      <th>order_delivered_customer_date</th>\n",
       "    </tr>\n",
       "  </thead>\n",
       "  <tbody>\n",
       "    <tr>\n",
       "      <th>0</th>\n",
       "      <td>00010242fe8c5a6d1ba2dd792cb16214</td>\n",
       "      <td>1</td>\n",
       "      <td>48436dade18ac8b2bce089ec2a041202</td>\n",
       "      <td>delivered</td>\n",
       "      <td>2017-09-13 08:59:02</td>\n",
       "      <td>2017-09-13 09:45:35</td>\n",
       "      <td>2017-09-19 18:34:16</td>\n",
       "      <td>2017-09-20 23:43:48</td>\n",
       "    </tr>\n",
       "    <tr>\n",
       "      <th>1</th>\n",
       "      <td>00018f77f2f0320c557190d7a144bdd3</td>\n",
       "      <td>1</td>\n",
       "      <td>dd7ddc04e1b6c2c614352b383efe2d36</td>\n",
       "      <td>delivered</td>\n",
       "      <td>2017-04-26 10:53:06</td>\n",
       "      <td>2017-04-26 11:05:13</td>\n",
       "      <td>2017-05-04 14:35:00</td>\n",
       "      <td>2017-05-12 16:04:24</td>\n",
       "    </tr>\n",
       "    <tr>\n",
       "      <th>2</th>\n",
       "      <td>000229ec398224ef6ca0657da4fc703e</td>\n",
       "      <td>1</td>\n",
       "      <td>5b51032eddd242adc84c38acab88f23d</td>\n",
       "      <td>delivered</td>\n",
       "      <td>2018-01-14 14:33:31</td>\n",
       "      <td>2018-01-14 14:48:30</td>\n",
       "      <td>2018-01-16 12:36:48</td>\n",
       "      <td>2018-01-22 13:19:16</td>\n",
       "    </tr>\n",
       "    <tr>\n",
       "      <th>3</th>\n",
       "      <td>00024acbcdf0a6daa1e931b038114c75</td>\n",
       "      <td>1</td>\n",
       "      <td>9d7a1d34a5052409006425275ba1c2b4</td>\n",
       "      <td>delivered</td>\n",
       "      <td>2018-08-08 10:00:35</td>\n",
       "      <td>2018-08-08 10:10:18</td>\n",
       "      <td>2018-08-10 13:28:00</td>\n",
       "      <td>2018-08-14 13:32:39</td>\n",
       "    </tr>\n",
       "    <tr>\n",
       "      <th>4</th>\n",
       "      <td>00042b26cf59d7ce69dfabb4e55b4fd9</td>\n",
       "      <td>1</td>\n",
       "      <td>df560393f3a51e74553ab94004ba5c87</td>\n",
       "      <td>delivered</td>\n",
       "      <td>2017-02-04 13:57:51</td>\n",
       "      <td>2017-02-04 14:10:13</td>\n",
       "      <td>2017-02-16 09:46:09</td>\n",
       "      <td>2017-03-01 16:42:31</td>\n",
       "    </tr>\n",
       "  </tbody>\n",
       "</table>\n",
       "</div>"
      ],
      "text/plain": [
       "                           order_id  order_item_id  \\\n",
       "0  00010242fe8c5a6d1ba2dd792cb16214              1   \n",
       "1  00018f77f2f0320c557190d7a144bdd3              1   \n",
       "2  000229ec398224ef6ca0657da4fc703e              1   \n",
       "3  00024acbcdf0a6daa1e931b038114c75              1   \n",
       "4  00042b26cf59d7ce69dfabb4e55b4fd9              1   \n",
       "\n",
       "                          seller_id order_status order_purchase_timestamp  \\\n",
       "0  48436dade18ac8b2bce089ec2a041202    delivered      2017-09-13 08:59:02   \n",
       "1  dd7ddc04e1b6c2c614352b383efe2d36    delivered      2017-04-26 10:53:06   \n",
       "2  5b51032eddd242adc84c38acab88f23d    delivered      2018-01-14 14:33:31   \n",
       "3  9d7a1d34a5052409006425275ba1c2b4    delivered      2018-08-08 10:00:35   \n",
       "4  df560393f3a51e74553ab94004ba5c87    delivered      2017-02-04 13:57:51   \n",
       "\n",
       "     order_approved_at order_delivered_carrier_date  \\\n",
       "0  2017-09-13 09:45:35          2017-09-19 18:34:16   \n",
       "1  2017-04-26 11:05:13          2017-05-04 14:35:00   \n",
       "2  2018-01-14 14:48:30          2018-01-16 12:36:48   \n",
       "3  2018-08-08 10:10:18          2018-08-10 13:28:00   \n",
       "4  2017-02-04 14:10:13          2017-02-16 09:46:09   \n",
       "\n",
       "  order_delivered_customer_date  \n",
       "0           2017-09-20 23:43:48  \n",
       "1           2017-05-12 16:04:24  \n",
       "2           2018-01-22 13:19:16  \n",
       "3           2018-08-14 13:32:39  \n",
       "4           2017-03-01 16:42:31  "
      ]
     },
     "execution_count": 13,
     "metadata": {},
     "output_type": "execute_result"
    }
   ],
   "source": [
    "df_orders_orderitems_sellers.head()"
   ]
  },
  {
   "cell_type": "code",
   "execution_count": 14,
   "metadata": {},
   "outputs": [
    {
     "name": "stdout",
     "output_type": "stream",
     "text": [
      "Max date which is used to check if user is churn or not =  2018-09-03 17:40:06\n"
     ]
    }
   ],
   "source": [
    "df_orders_orderitems_sellers.iloc[:, 4:] = df_orders_orderitems_sellers.iloc[:, 4:].apply(pd.to_datetime, errors='coerce')\n",
    "\n",
    "df_sellers =  GetSellerLatestOrderDate(df_orders_orderitems_sellers,df_sellers)\n",
    "\n",
    "df_sellers = SetChurnUsers(df=df_sellers,checkColumn=\"latest_order_date\",churn_month_duration=3)"
   ]
  },
  {
   "cell_type": "code",
   "execution_count": 15,
   "metadata": {},
   "outputs": [
    {
     "data": {
      "text/html": [
       "<div>\n",
       "<style scoped>\n",
       "    .dataframe tbody tr th:only-of-type {\n",
       "        vertical-align: middle;\n",
       "    }\n",
       "\n",
       "    .dataframe tbody tr th {\n",
       "        vertical-align: top;\n",
       "    }\n",
       "\n",
       "    .dataframe thead th {\n",
       "        text-align: right;\n",
       "    }\n",
       "</style>\n",
       "<table border=\"1\" class=\"dataframe\">\n",
       "  <thead>\n",
       "    <tr style=\"text-align: right;\">\n",
       "      <th></th>\n",
       "      <th>seller_id</th>\n",
       "      <th>seller_zip_code_prefix</th>\n",
       "      <th>seller_city</th>\n",
       "      <th>seller_state</th>\n",
       "      <th>latest_order_date</th>\n",
       "      <th>churn_user</th>\n",
       "    </tr>\n",
       "  </thead>\n",
       "  <tbody>\n",
       "    <tr>\n",
       "      <th>0</th>\n",
       "      <td>3442f8959a84dea7ee197c632cb2df15</td>\n",
       "      <td>13023</td>\n",
       "      <td>campinas</td>\n",
       "      <td>SP</td>\n",
       "      <td>2018-08-18 21:30:14</td>\n",
       "      <td>False</td>\n",
       "    </tr>\n",
       "    <tr>\n",
       "      <th>1</th>\n",
       "      <td>d1b65fc7debc3361ea86b5f14c68d2e2</td>\n",
       "      <td>13844</td>\n",
       "      <td>mogi guacu</td>\n",
       "      <td>SP</td>\n",
       "      <td>2018-07-25 16:45:18</td>\n",
       "      <td>False</td>\n",
       "    </tr>\n",
       "    <tr>\n",
       "      <th>2</th>\n",
       "      <td>ce3ad9de960102d0677a81f5d0bb7b2d</td>\n",
       "      <td>20031</td>\n",
       "      <td>rio de janeiro</td>\n",
       "      <td>RJ</td>\n",
       "      <td>2018-06-16 21:55:56</td>\n",
       "      <td>False</td>\n",
       "    </tr>\n",
       "    <tr>\n",
       "      <th>3</th>\n",
       "      <td>c0f3eea2e14555b6faeea3dd58c1b1c3</td>\n",
       "      <td>4195</td>\n",
       "      <td>sao paulo</td>\n",
       "      <td>SP</td>\n",
       "      <td>2018-08-20 20:10:27</td>\n",
       "      <td>False</td>\n",
       "    </tr>\n",
       "    <tr>\n",
       "      <th>4</th>\n",
       "      <td>51a04a8a6bdcb23deccc82b0b80742cf</td>\n",
       "      <td>12914</td>\n",
       "      <td>braganca paulista</td>\n",
       "      <td>SP</td>\n",
       "      <td>2018-03-10 21:35:22</td>\n",
       "      <td>True</td>\n",
       "    </tr>\n",
       "    <tr>\n",
       "      <th>5</th>\n",
       "      <td>c240c4061717ac1806ae6ee72be3533b</td>\n",
       "      <td>20920</td>\n",
       "      <td>rio de janeiro</td>\n",
       "      <td>RJ</td>\n",
       "      <td>2017-10-04 02:49:23</td>\n",
       "      <td>True</td>\n",
       "    </tr>\n",
       "    <tr>\n",
       "      <th>6</th>\n",
       "      <td>e49c26c3edfa46d227d5121a6b6e4d37</td>\n",
       "      <td>55325</td>\n",
       "      <td>brejao</td>\n",
       "      <td>PE</td>\n",
       "      <td>2018-08-28 09:30:39</td>\n",
       "      <td>False</td>\n",
       "    </tr>\n",
       "    <tr>\n",
       "      <th>7</th>\n",
       "      <td>1b938a7ec6ac5061a66a3766e0e75f90</td>\n",
       "      <td>16304</td>\n",
       "      <td>penapolis</td>\n",
       "      <td>SP</td>\n",
       "      <td>2018-07-05 16:35:48</td>\n",
       "      <td>False</td>\n",
       "    </tr>\n",
       "    <tr>\n",
       "      <th>8</th>\n",
       "      <td>768a86e36ad6aae3d03ee3c6433d61df</td>\n",
       "      <td>1529</td>\n",
       "      <td>sao paulo</td>\n",
       "      <td>SP</td>\n",
       "      <td>2018-08-22 04:04:23</td>\n",
       "      <td>False</td>\n",
       "    </tr>\n",
       "    <tr>\n",
       "      <th>9</th>\n",
       "      <td>ccc4bbb5f32a6ab2b7066a4130f114e3</td>\n",
       "      <td>80310</td>\n",
       "      <td>curitiba</td>\n",
       "      <td>PR</td>\n",
       "      <td>2018-08-20 10:50:25</td>\n",
       "      <td>False</td>\n",
       "    </tr>\n",
       "  </tbody>\n",
       "</table>\n",
       "</div>"
      ],
      "text/plain": [
       "                          seller_id  seller_zip_code_prefix  \\\n",
       "0  3442f8959a84dea7ee197c632cb2df15                   13023   \n",
       "1  d1b65fc7debc3361ea86b5f14c68d2e2                   13844   \n",
       "2  ce3ad9de960102d0677a81f5d0bb7b2d                   20031   \n",
       "3  c0f3eea2e14555b6faeea3dd58c1b1c3                    4195   \n",
       "4  51a04a8a6bdcb23deccc82b0b80742cf                   12914   \n",
       "5  c240c4061717ac1806ae6ee72be3533b                   20920   \n",
       "6  e49c26c3edfa46d227d5121a6b6e4d37                   55325   \n",
       "7  1b938a7ec6ac5061a66a3766e0e75f90                   16304   \n",
       "8  768a86e36ad6aae3d03ee3c6433d61df                    1529   \n",
       "9  ccc4bbb5f32a6ab2b7066a4130f114e3                   80310   \n",
       "\n",
       "         seller_city seller_state   latest_order_date  churn_user  \n",
       "0           campinas           SP 2018-08-18 21:30:14       False  \n",
       "1         mogi guacu           SP 2018-07-25 16:45:18       False  \n",
       "2     rio de janeiro           RJ 2018-06-16 21:55:56       False  \n",
       "3          sao paulo           SP 2018-08-20 20:10:27       False  \n",
       "4  braganca paulista           SP 2018-03-10 21:35:22        True  \n",
       "5     rio de janeiro           RJ 2017-10-04 02:49:23        True  \n",
       "6             brejao           PE 2018-08-28 09:30:39       False  \n",
       "7          penapolis           SP 2018-07-05 16:35:48       False  \n",
       "8          sao paulo           SP 2018-08-22 04:04:23       False  \n",
       "9           curitiba           PR 2018-08-20 10:50:25       False  "
      ]
     },
     "execution_count": 15,
     "metadata": {},
     "output_type": "execute_result"
    }
   ],
   "source": [
    "df_sellers.head(10)"
   ]
  },
  {
   "cell_type": "code",
   "execution_count": null,
   "metadata": {
    "collapsed": true
   },
   "outputs": [],
   "source": []
  },
  {
   "cell_type": "code",
   "execution_count": null,
   "metadata": {
    "collapsed": true
   },
   "outputs": [],
   "source": []
  },
  {
   "cell_type": "code",
   "execution_count": null,
   "metadata": {
    "collapsed": true
   },
   "outputs": [],
   "source": []
  },
  {
   "cell_type": "code",
   "execution_count": null,
   "metadata": {
    "collapsed": true
   },
   "outputs": [],
   "source": []
  }
 ],
 "metadata": {
  "kernelspec": {
   "display_name": "Python 3",
   "language": "python",
   "name": "python3"
  },
  "language_info": {
   "codemirror_mode": {
    "name": "ipython",
    "version": 3
   },
   "file_extension": ".py",
   "mimetype": "text/x-python",
   "name": "python",
   "nbconvert_exporter": "python",
   "pygments_lexer": "ipython3",
   "version": "3.6.1"
  }
 },
 "nbformat": 4,
 "nbformat_minor": 2
}
