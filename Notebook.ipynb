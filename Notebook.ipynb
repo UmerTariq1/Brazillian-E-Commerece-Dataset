{
 "cells": [
  {
   "cell_type": "code",
   "execution_count": 183,
   "metadata": {
    "collapsed": true
   },
   "outputs": [],
   "source": [
    "import pandas as pd\n",
    "import numpy as np\n",
    "from datetime import datetime,timedelta"
   ]
  },
  {
   "cell_type": "code",
   "execution_count": 184,
   "metadata": {},
   "outputs": [
    {
     "name": "stdout",
     "output_type": "stream",
     "text": [
      "df_customers (99441, 5)\n",
      "df_sellers (3095, 4)\n",
      "df_orders (99441, 8)\n",
      "df_products (32951, 9)\n",
      "df_orderItems (112650, 7)\n",
      "df_orderReviews (100000, 7)\n",
      "df_orderPayments (103886, 5)\n",
      "df_geolocation (1000163, 5)\n",
      "df_productCategory (71, 2)\n",
      "df_products_english (32951, 10)\n"
     ]
    }
   ],
   "source": [
    "df_customers = pd.read_csv(\"data\\olist_customers_dataset.csv\")\n",
    "print(\"df_customers\", df_customers.shape)\n",
    "df_sellers = pd.read_csv(\"data\\olist_sellers_dataset.csv\")\n",
    "print(\"df_sellers\", df_sellers.shape)\n",
    "df_orders = pd.read_csv(\"data\\olist_orders_dataset.csv\")\n",
    "print(\"df_orders\", df_orders.shape)\n",
    "df_products = pd.read_csv(\"data\\olist_products_dataset.csv\")\n",
    "print(\"df_products\", df_products.shape)\n",
    "df_orderItems = pd.read_csv(\"data\\olist_order_items_dataset.csv\")\n",
    "print(\"df_orderItems\", df_orderItems.shape)\n",
    "df_orderReviews = pd.read_csv(\"data\\olist_order_reviews_dataset.csv\")\n",
    "print(\"df_orderReviews\", df_orderReviews.shape)\n",
    "df_orderPayments = pd.read_csv(\"data\\olist_order_payments_dataset.csv\")\n",
    "print(\"df_orderPayments\", df_orderPayments.shape)\n",
    "df_geolocation = pd.read_csv(\"data\\olist_geolocation_dataset.csv\")\n",
    "print(\"df_geolocation\", df_geolocation.shape)\n",
    "df_productCategory = pd.read_csv(\"data\\product_category_name_translation.csv\")\n",
    "print(\"df_productCategory\", df_productCategory.shape)\n",
    "\n",
    "\n",
    "df_products_english = pd.merge(df_products,df_productCategory ,on=\"product_category_name\",how=\"left\")\n",
    "print(\"df_products_english\", df_products_english.shape)\n"
   ]
  },
  {
   "cell_type": "code",
   "execution_count": 185,
   "metadata": {
    "collapsed": true
   },
   "outputs": [],
   "source": [
    "def getDateTime(date_str):\n",
    "    return datetime.strptime(date_str, '%Y-%m-%d %H:%M:%S')\n"
   ]
  },
  {
   "cell_type": "code",
   "execution_count": 186,
   "metadata": {
    "collapsed": true
   },
   "outputs": [],
   "source": [
    "def Merge_Orders_and_Customers():\n",
    "    return pd.merge(df_orders,df_customers,on=\"customer_id\",how=\"left\")\n",
    "    "
   ]
  },
  {
   "cell_type": "code",
   "execution_count": 187,
   "metadata": {
    "collapsed": true
   },
   "outputs": [],
   "source": [
    "def GetCustomerLatestOrderDate(df_orders_customers,df_customers):\n",
    "    df_customers['latest_order_date'] = df_orders_customers.groupby(\"customer_id\")[\"order_purchase_timestamp\"].transform(max)\n",
    "    df_customers['latest_order_date'] = pd.to_datetime(df_customers['latest_order_date'])\n",
    "    return df_customers"
   ]
  },
  {
   "cell_type": "code",
   "execution_count": 188,
   "metadata": {
    "collapsed": true
   },
   "outputs": [],
   "source": [
    "def SetChurnCustomers(df_customers):\n",
    "    # lets take the latest order date (2018-10-17 17:30:18) as the current date and \n",
    "    # call user a churn user if he/she hasnt placed an order for last 3 months\n",
    "    # churn_user = True when user hasnt ordered for last 3 months\n",
    "    se_date = GetMaxColumnValue(df_customers,\"latest_order_date\")\n",
    "    \n",
    "    df_customers[\"churn_user\"] = True\n",
    "    df_customers.loc[ df_customers['latest_order_date'] >= ( se_date - timedelta( days = (3*30.42))), \"churn_user\"] = False\n",
    "    \n",
    "    return df_customers"
   ]
  },
  {
   "cell_type": "code",
   "execution_count": 189,
   "metadata": {
    "collapsed": true
   },
   "outputs": [],
   "source": [
    "def GetRowsWhereColumnValueEquals(df,columnName,value):\n",
    "    return df.loc[df[columnName] == value]\n",
    "\n",
    "def GetMaxColumnValue(df,columnName):\n",
    "    return df[columnName].max()\n",
    "\n",
    "def GetMinColumnValue(df,columnName):\n",
    "    return df[columnName].min()\n",
    "\n",
    "def GetUnqiueColumnValues(df,columnName):\n",
    "    return df[columnName].unique()\n",
    "\n",
    "def GetUnqiueColumnValuesLength(df,columnName):\n",
    "    return len(df[columnName].unique())\n",
    "\n",
    "def GetCountOfGroupBy(df,GroupbyOn,ColumnCountOn):\n",
    "    return df.groupby(GroupbyOn)[ColumnCountOn].count()"
   ]
  },
  {
   "cell_type": "code",
   "execution_count": null,
   "metadata": {
    "collapsed": true
   },
   "outputs": [],
   "source": []
  },
  {
   "cell_type": "code",
   "execution_count": null,
   "metadata": {},
   "outputs": [],
   "source": []
  },
  {
   "cell_type": "code",
   "execution_count": 190,
   "metadata": {},
   "outputs": [],
   "source": [
    "df_orders_customers =  Merge_Orders_and_Customers()\n",
    "df_customers = GetCustomerLatestOrderDate(df_orders_customers,df_customers)\n",
    "df_customers = SetChurnCustomers(df_customers)"
   ]
  },
  {
   "cell_type": "code",
   "execution_count": 125,
   "metadata": {},
   "outputs": [
    {
     "data": {
      "text/plain": [
       "('sao paulo', 15540)"
      ]
     },
     "execution_count": 125,
     "metadata": {},
     "output_type": "execute_result"
    }
   ],
   "source": [
    "NumberOfCustomersInCity = GetCountOfGroupBy(df_customers,\"customer_city\",\"customer_id\")\n",
    "MaxCustomerCity = NumberOfCustomersInCity.idxmax()\n",
    "MaxCustomerCityValue = NumberOfCustomersInCity.max()\n",
    "\n",
    "MaxCustomerCity,MaxCustomerCityValue"
   ]
  },
  {
   "cell_type": "code",
   "execution_count": 149,
   "metadata": {},
   "outputs": [
    {
     "name": "stdout",
     "output_type": "stream",
     "text": [
      "1\n",
      "99441\n",
      "(99441, 8)\n"
     ]
    }
   ],
   "source": [
    "x = df_orders.groupby(\"customer_id\").count()\n",
    "print(x[\"order_id\"].max())\n",
    "# or\n",
    "print(df_orders[\"customer_id\"].nunique())\n",
    "print(df_orders.shape)\n",
    "\n",
    "# that means no customer has more than 1 order"
   ]
  },
  {
   "cell_type": "code",
   "execution_count": 182,
   "metadata": {},
   "outputs": [
    {
     "data": {
      "text/html": [
       "<div>\n",
       "<style>\n",
       "    .dataframe thead tr:only-child th {\n",
       "        text-align: right;\n",
       "    }\n",
       "\n",
       "    .dataframe thead th {\n",
       "        text-align: left;\n",
       "    }\n",
       "\n",
       "    .dataframe tbody tr th {\n",
       "        vertical-align: top;\n",
       "    }\n",
       "</style>\n",
       "<table border=\"1\" class=\"dataframe\">\n",
       "  <thead>\n",
       "    <tr style=\"text-align: right;\">\n",
       "      <th></th>\n",
       "      <th>order_id</th>\n",
       "      <th>payment_sequential</th>\n",
       "      <th>payment_type</th>\n",
       "      <th>payment_installments</th>\n",
       "      <th>payment_value</th>\n",
       "    </tr>\n",
       "  </thead>\n",
       "  <tbody>\n",
       "    <tr>\n",
       "      <th>0</th>\n",
       "      <td>b81ef226f3fe1789b1e8b2acac839d17</td>\n",
       "      <td>1</td>\n",
       "      <td>credit_card</td>\n",
       "      <td>8</td>\n",
       "      <td>99.33</td>\n",
       "    </tr>\n",
       "    <tr>\n",
       "      <th>1</th>\n",
       "      <td>a9810da82917af2d9aefd1278f1dcfa0</td>\n",
       "      <td>1</td>\n",
       "      <td>credit_card</td>\n",
       "      <td>1</td>\n",
       "      <td>24.39</td>\n",
       "    </tr>\n",
       "    <tr>\n",
       "      <th>2</th>\n",
       "      <td>25e8ea4e93396b6fa0d3dd708e76c1bd</td>\n",
       "      <td>1</td>\n",
       "      <td>credit_card</td>\n",
       "      <td>1</td>\n",
       "      <td>65.71</td>\n",
       "    </tr>\n",
       "    <tr>\n",
       "      <th>3</th>\n",
       "      <td>ba78997921bbcdc1373bb41e913ab953</td>\n",
       "      <td>1</td>\n",
       "      <td>credit_card</td>\n",
       "      <td>8</td>\n",
       "      <td>107.78</td>\n",
       "    </tr>\n",
       "    <tr>\n",
       "      <th>4</th>\n",
       "      <td>42fdf880ba16b47b59251dd489d4441a</td>\n",
       "      <td>1</td>\n",
       "      <td>credit_card</td>\n",
       "      <td>2</td>\n",
       "      <td>128.45</td>\n",
       "    </tr>\n",
       "    <tr>\n",
       "      <th>5</th>\n",
       "      <td>298fcdf1f73eb413e4d26d01b25bc1cd</td>\n",
       "      <td>1</td>\n",
       "      <td>credit_card</td>\n",
       "      <td>2</td>\n",
       "      <td>96.12</td>\n",
       "    </tr>\n",
       "    <tr>\n",
       "      <th>6</th>\n",
       "      <td>771ee386b001f06208a7419e4fc1bbd7</td>\n",
       "      <td>1</td>\n",
       "      <td>credit_card</td>\n",
       "      <td>1</td>\n",
       "      <td>81.16</td>\n",
       "    </tr>\n",
       "    <tr>\n",
       "      <th>7</th>\n",
       "      <td>3d7239c394a212faae122962df514ac7</td>\n",
       "      <td>1</td>\n",
       "      <td>credit_card</td>\n",
       "      <td>3</td>\n",
       "      <td>51.84</td>\n",
       "    </tr>\n",
       "    <tr>\n",
       "      <th>8</th>\n",
       "      <td>1f78449c87a54faf9e96e88ba1491fa9</td>\n",
       "      <td>1</td>\n",
       "      <td>credit_card</td>\n",
       "      <td>6</td>\n",
       "      <td>341.09</td>\n",
       "    </tr>\n",
       "    <tr>\n",
       "      <th>9</th>\n",
       "      <td>0573b5e23cbd798006520e1d5b4c6714</td>\n",
       "      <td>1</td>\n",
       "      <td>boleto</td>\n",
       "      <td>1</td>\n",
       "      <td>51.95</td>\n",
       "    </tr>\n",
       "  </tbody>\n",
       "</table>\n",
       "</div>"
      ],
      "text/plain": [
       "                           order_id  payment_sequential payment_type  \\\n",
       "0  b81ef226f3fe1789b1e8b2acac839d17                   1  credit_card   \n",
       "1  a9810da82917af2d9aefd1278f1dcfa0                   1  credit_card   \n",
       "2  25e8ea4e93396b6fa0d3dd708e76c1bd                   1  credit_card   \n",
       "3  ba78997921bbcdc1373bb41e913ab953                   1  credit_card   \n",
       "4  42fdf880ba16b47b59251dd489d4441a                   1  credit_card   \n",
       "5  298fcdf1f73eb413e4d26d01b25bc1cd                   1  credit_card   \n",
       "6  771ee386b001f06208a7419e4fc1bbd7                   1  credit_card   \n",
       "7  3d7239c394a212faae122962df514ac7                   1  credit_card   \n",
       "8  1f78449c87a54faf9e96e88ba1491fa9                   1  credit_card   \n",
       "9  0573b5e23cbd798006520e1d5b4c6714                   1       boleto   \n",
       "\n",
       "   payment_installments  payment_value  \n",
       "0                     8          99.33  \n",
       "1                     1          24.39  \n",
       "2                     1          65.71  \n",
       "3                     8         107.78  \n",
       "4                     2         128.45  \n",
       "5                     2          96.12  \n",
       "6                     1          81.16  \n",
       "7                     3          51.84  \n",
       "8                     6         341.09  \n",
       "9                     1          51.95  "
      ]
     },
     "execution_count": 182,
     "metadata": {},
     "output_type": "execute_result"
    }
   ],
   "source": [
    "# try uncommenting both and see the results\n",
    "# df_orderPayments.groupby(\"payment_sequential\").count()\n",
    "GetRowsWhereColumnValueEquals(df_orderPayments,\"payment_sequential\",1)  .head(10)\n"
   ]
  },
  {
   "cell_type": "code",
   "execution_count": 166,
   "metadata": {},
   "outputs": [
    {
     "data": {
      "text/plain": [
       "112.8"
      ]
     },
     "execution_count": 166,
     "metadata": {},
     "output_type": "execute_result"
    }
   ],
   "source": []
  },
  {
   "cell_type": "code",
   "execution_count": null,
   "metadata": {
    "collapsed": true
   },
   "outputs": [],
   "source": []
  }
 ],
 "metadata": {
  "kernelspec": {
   "display_name": "Python 3",
   "language": "python",
   "name": "python3"
  },
  "language_info": {
   "codemirror_mode": {
    "name": "ipython",
    "version": 3
   },
   "file_extension": ".py",
   "mimetype": "text/x-python",
   "name": "python",
   "nbconvert_exporter": "python",
   "pygments_lexer": "ipython3",
   "version": "3.6.1"
  }
 },
 "nbformat": 4,
 "nbformat_minor": 2
}
